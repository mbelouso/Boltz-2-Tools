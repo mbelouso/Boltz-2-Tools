{
 "cells": [
  {
   "cell_type": "code",
   "execution_count": 9,
   "id": "76d673b3",
   "metadata": {},
   "outputs": [
    {
     "ename": "NameError",
     "evalue": "name 'df1' is not defined",
     "output_type": "error",
     "traceback": [
      "\u001b[0;31m---------------------------------------------------------------------------\u001b[0m",
      "\u001b[0;31mNameError\u001b[0m                                 Traceback (most recent call last)",
      "Cell \u001b[0;32mIn[9], line 62\u001b[0m\n\u001b[1;32m     60\u001b[0m \u001b[38;5;66;03m# Use the function to generate all the YAML files from the dataframe\u001b[39;00m\n\u001b[1;32m     61\u001b[0m generate_yaml_files(df)\n\u001b[0;32m---> 62\u001b[0m generate_yaml_files(\u001b[43mdf1\u001b[49m)\n",
      "\u001b[0;31mNameError\u001b[0m: name 'df1' is not defined"
     ]
    }
   ],
   "source": [
    "# Structure of output YAML file\n",
    "\"\"\"\n",
    "version: 1  # Optional, defaults to 1\n",
    "sequences:\n",
    "  - protein:\n",
    "      id: [A]\n",
    "      sequence: MVTPEGNVSLVDESLLVGVTDEDRAVRSAHQFYERLIGLWAPA\n",
    "      msa: ./msa/CTR.a3m\n",
    "  - ligand:\n",
    "      id: [B]\n",
    "      smiles: 'N[C@@H](Cc1ccc(O)cc1)C(=O)O'\n",
    "\n",
    "\"\"\"\n",
    "import pandas as pd\n",
    "import yaml\n",
    "import re\n",
    "\n",
    "# Read a CSV file into a DataFrame  \n",
    "df = pd.read_csv('Series_2_SMILES.csv')\n",
    "\n",
    "\n",
    "protein_sequence = \"MVTPEGNVSLVDESLLVGVTDEDRAVRSAHQFYERLIGLWAPAVMEAAHELGVFAALAEAPADSGELARRLDCDARAMRVLLDALYAYDVIDRIHDTNGFRYLLSAEARECLLPGTLFSLVGKFMHDINVAWPAWRNLAEVVRHGARDTSGAESPNGIAQEDYESLVGGINFWAPPIVTTLSRKLRASGRSGDATASVLDVGCGTGLYSQLLLREFPRWTATGLDVERIATLANAQALRLGVEERFATRAGDFWRGGWGTGYDLVLFANIFHLQTPASAVRLMRHAAACLAPDGLVAVVDQIVDADREPKTPQDRFALLFAASMTNTGGGDAYTFQEYEEWFTAAGLQRIETLDTPMHRILLARRATEPSAVPEGQASENLYFQ\"\n",
    "chainA = \"[A]\"\n",
    "chainB = \"[B]\"\n",
    "\n",
    "\n",
    "# Need to loop through the pandas dataframe and populate the YAML file so that the 'smiles' field is populated and the output file is named from the 'Molecule Name' column.\n",
    "def create_yaml_entry(smiles):\n",
    "    return {\n",
    "        'protein': {\n",
    "            'id': chainA,\n",
    "            'sequence': protein_sequence,\n",
    "            'msa': './msa/CTR.a3m'\n",
    "        },\n",
    "        'ligand': {\n",
    "            'id': chainB,\n",
    "            'smiles': smiles\n",
    "        }\n",
    "    }\n",
    "\n",
    "def generate_yaml_files(df):\n",
    "    for index, row in df.iterrows():\n",
    "        molecule_name = str(row['Molecule Name']).replace(\" \", \"_\")\n",
    "        smiles = row['SMILES']\n",
    "        entry = create_yaml_entry(smiles)\n",
    "        output_data = {\n",
    "            'version': 1,\n",
    "            'sequences': [entry]\n",
    "        }\n",
    "        filename = f\"{molecule_name}.yaml\"\n",
    "        with open(filename, 'w') as file:\n",
    "            yaml.dump(output_data, file, default_flow_style=False, sort_keys=False)\n",
    "        # Strip out the extra quotes from the YAML output\n",
    "        with open(filename, 'r') as file:\n",
    "            contents = file.read()\n",
    "        with open(filename, 'w') as file:\n",
    "            file.write(re.sub(r\"['\\\"]\", \"\", contents))\n",
    "\n",
    "\n",
    "# Use the function to generate all the YAML files from the dataframe\n",
    "generate_yaml_files(df)\n",
    "generate_yaml_files(df1)\n",
    "\n"
   ]
  }
 ],
 "metadata": {
  "kernelspec": {
   "display_name": "boltz-2-tools",
   "language": "python",
   "name": "python3"
  },
  "language_info": {
   "codemirror_mode": {
    "name": "ipython",
    "version": 3
   },
   "file_extension": ".py",
   "mimetype": "text/x-python",
   "name": "python",
   "nbconvert_exporter": "python",
   "pygments_lexer": "ipython3",
   "version": "3.10.18"
  }
 },
 "nbformat": 4,
 "nbformat_minor": 5
}
