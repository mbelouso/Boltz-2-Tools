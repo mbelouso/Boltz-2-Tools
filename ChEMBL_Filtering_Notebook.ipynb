{
 "cells": [
  {
   "cell_type": "code",
   "execution_count": null,
   "id": "b976e256",
   "metadata": {},
   "outputs": [
    {
     "name": "stdout",
     "output_type": "stream",
     "text": [
      "Initial number of rows: 141990\n",
      "Number of rows after filtering: 134060\n",
      "Number of rows after filtering by MOL_WEIGHT: 122663\n",
      "Number of rows after random sampling: 50000\n",
      "107724    629429_CHEMBL\n",
      "88952     480565_CHEMBL\n",
      "733         1723_CHEMBL\n",
      "56977      93549_CHEMBL\n",
      "109239    632264_CHEMBL\n",
      "Name: EXTERNAL_SOURCES, dtype: object\n"
     ]
    }
   ],
   "source": [
    "# Jupyter notebook for filtering ChEMBL GPCRSARfari database\n",
    "\n",
    "import os\n",
    "import pandas as pd\n",
    "import csv\n",
    "import random\n",
    "\n",
    "\n",
    "# load the CSV file from the ChEMBL GPCRSARfari database, The file is tab-separated\n",
    "df = pd.read_csv(\"gs_compound.txt\", sep=\"\\t\")\n",
    "\n",
    "# Need to filter the dataframe to exclude rows where the MED_CHEM_FRIENDLY is N or empty\n",
    "print(f\"Initial number of rows: {len(df)}\")\n",
    "df = df[df[\"MED_CHEM_FRIENDLY\"].isin([\"Y\", \"N\"])]\n",
    "\n",
    "# Print the number of rows after filtering\n",
    "print(f\"Number of rows after filtering: {len(df)}\")\n",
    "\n",
    "# with the filtered dataframe, we now want to filter by MOL_WEIGHT\n",
    "df = df[df[\"MOLWEIGHT\"] < 600]\n",
    "\n",
    "# Print the number of rows after filtering by MOL_WEIGHT\n",
    "print(f\"Number of rows after filtering by MOL_WEIGHT: {len(df)}\")\n",
    "\n",
    "# Now we will filter by a random selection of 50000 rows\n",
    "df = df.sample(n=50000, random_state=1)\n",
    "\n",
    "# Print the number of rows after random sampling\n",
    "print(f\"Number of rows after random sampling: {len(df)}\")\n",
    "\n",
    "# Print a specific column of the dataframe to verify the output\n",
    "# Edit the EXTERNAL_SOURCES column to remove spaces from each entry\n",
    "df[\"EXTERNAL_SOURCES\"] = df[\"EXTERNAL_SOURCES\"].str.replace(\" \", \"\", regex=False)\n",
    "df[\"EXTERNAL_SOURCES\"] = df[\"EXTERNAL_SOURCES\"].str.replace(\"(\", \"\", regex=False)\n",
    "df[\"EXTERNAL_SOURCES\"] = df[\"EXTERNAL_SOURCES\"].str.replace(\")\", \"\", regex=False)\n",
    "df[\"EXTERNAL_SOURCES\"] = df[\"EXTERNAL_SOURCES\"].str.replace(\"C\", \"_C\", regex=False)\n",
    "\n",
    "print(df[\"EXTERNAL_SOURCES\"].head(5))\n",
    "\n",
    "\n",
    "# save the filtered dataframe to a new CSV file\n",
    "output_file = \"gs_compound_filtered.csv\"\n",
    "df.to_csv(output_file, sep=\"\\t\")\n",
    "\n",
    "\n",
    "\n"
   ]
  }
 ],
 "metadata": {
  "kernelspec": {
   "display_name": "boltz2-tools",
   "language": "python",
   "name": "python3"
  },
  "language_info": {
   "codemirror_mode": {
    "name": "ipython",
    "version": 3
   },
   "file_extension": ".py",
   "mimetype": "text/x-python",
   "name": "python",
   "nbconvert_exporter": "python",
   "pygments_lexer": "ipython3",
   "version": "3.10.18"
  }
 },
 "nbformat": 4,
 "nbformat_minor": 5
}
