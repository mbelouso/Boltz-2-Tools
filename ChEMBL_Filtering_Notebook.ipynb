{
 "cells": [
  {
   "cell_type": "code",
   "execution_count": null,
   "id": "b976e256",
   "metadata": {},
   "outputs": [
    {
     "name": "stdout",
     "output_type": "stream",
     "text": [
      "Index(['ChEMBL ID', 'Type', 'Max Phase', 'Molecular Weight', 'Targets',\n",
      "       'Bioactivities', 'AlogP', 'Polar Surface Area', 'HBA', 'HBD',\n",
      "       '#RO5 Violations', '#Rotatable Bonds', 'Passes Ro3', 'QED Weighted',\n",
      "       'CX Acidic pKa', 'CX Basic pKa', 'CX LogP', 'CX LogD', 'Aromatic Rings',\n",
      "       'Structure Type', 'Inorganic Flag', 'Heavy Atoms', 'HBA (Lipinski)',\n",
      "       'HBD (Lipinski)', '#RO5 Violations (Lipinski)',\n",
      "       'Molecular Weight (Monoisotopic)', 'Np Likeness Score',\n",
      "       'Molecular Species', 'Molecular Formula', 'Smiles'],\n",
      "      dtype='object')\n",
      "Initial number of rows: 1048575\n",
      "Number of rows after filtering: 441711\n",
      "Number of rows after random sampling: 30000\n"
     ]
    }
   ],
   "source": [
    "# Jupyter notebook for filtering ChEMBL GPCRSARfari database\n",
    "\n",
    "import os\n",
    "import pandas as pd\n",
    "import csv\n",
    "import random\n",
    "\n",
    "\n",
    "# load the CSV file from the ChEMBL GPCRSARfari database, The file is tab-separated\n",
    "#df = pd.read_csv(\"chEMBL_dump_ReExport.csv\", sep=',')\n",
    "df = pd.read_csv(\"chEMBL_dump_ReExport.csv\", sep=';')\n",
    "\n",
    "# Print the key values of the dataframe\n",
    "print(df.columns)\n",
    "\n",
    "# Need to filter the dataframe to exclude rows where the MED_CHEM_FRIENDLY is N or empty\n",
    "print(f\"Initial number of rows: {len(df)}\")\n",
    "\n",
    "\n",
    "# Filter by Molecular Weight\n",
    "df = df[df['Molecular Weight'] < 500]\n",
    "\n",
    "# Filter by LogP values < 5\n",
    "df = df[df['AlogP'] < 5]\n",
    "\n",
    "# Filter by QED weighted (Quantitative Estimate of Drug-likeness)\n",
    "df = df[df['QED Weighted'] > 0.6]\n",
    "\n",
    "# Print the number of rows after filtering by MOL_WEIGHT\n",
    "print(f\"Number of rows after filtering: {len(df)}\")\n",
    "\n",
    "# Now we will filter by a random selection of 30000 rows\n",
    "df = df.sample(n=30000, random_state=1)\n",
    "\n",
    "# Print the number of rows after random sampling\n",
    "print(f\"Number of rows after random sampling: {len(df)}\")\n",
    "\n",
    "# save the filtered dataframe to a new CSV file\n",
    "output_file = \"chEMBL_filtered.csv\"\n",
    "df.to_csv(output_file, sep=\"\\t\", index=False)\n",
    "\n",
    "\n",
    "\n"
   ]
  }
 ],
 "metadata": {
  "kernelspec": {
   "display_name": "boltz2-tools",
   "language": "python",
   "name": "python3"
  },
  "language_info": {
   "codemirror_mode": {
    "name": "ipython",
    "version": 3
   },
   "file_extension": ".py",
   "mimetype": "text/x-python",
   "name": "python",
   "nbconvert_exporter": "python",
   "pygments_lexer": "ipython3",
   "version": "3.10.18"
  }
 },
 "nbformat": 4,
 "nbformat_minor": 5
}
