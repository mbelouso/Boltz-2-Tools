{
 "cells": [
  {
   "cell_type": "code",
   "execution_count": null,
   "id": "eddd4c97",
   "metadata": {},
   "outputs": [],
   "source": []
  },
  {
   "cell_type": "code",
   "execution_count": 7,
   "id": "804dc82e",
   "metadata": {},
   "outputs": [
    {
     "name": "stdout",
     "output_type": "stream",
     "text": [
      "  Molecule Name                                             SMILES\n",
      "0  MIPS-0057073  C(C(C1=C(C2=CC=C(C(NCC3=CC(F)=C(F)C=C3)=O)S2)C...\n",
      "1  MIPS-0056952  FC1=CC=C(CCC2=NC(CC(C)C)=C(C(N)=O)C(C3=CC=C(C(...\n",
      "2  MIPS-0056932  COC1=C2C(=CC=C1)[C@@H](NC(C1=CC=C(C3=C(C4=NN=C...\n",
      "3  MIPS-0056911  FC1=CC=C(CCC2=NC(CC(C)C)=C(C(N)=O)C(C3=CC=C(C(...\n",
      "4  MIPS-0056908  COC1=C2C(=CC=C1)C(NC(C1=CC=C(C3=C(C4=NN=C(C)O4...\n",
      "['C(C(C1=C(C2=CC=C(C(NCC3=CC(F)=C(F)C=C3)=O)S2)C(C2=NN=C(C)O2)=C(CCC2=CC=C(F)C=C2)N=C1CC(C)C)=O)C(C)C', 'FC1=CC=C(CCC2=NC(CC(C)C)=C(C(N)=O)C(C3=CC=C(C(NCC4=CC=C(F)C(F)=C4)=O)S3)=C2COC)C=C1', 'COC1=C2C(=CC=C1)[C@@H](NC(C1=CC=C(C3=C(C4=NN=C(C)O4)C(CCC4=CC=C(F)C=C4)=NC(CC(C)C)=C3C(N)=O)S1)=O)CC2', 'FC1=CC=C(CCC2=NC(CC(C)C)=C(C(N)=O)C(C3=CC=C(C(NCC4=CN=CC=C4)=O)C=C3)=C2)C=C1', 'COC1=C2C(=CC=C1)C(NC(C1=CC=C(C3=C(C4=NN=C(C)O4)C(CCC4=CC=C(F)C=C4)=NC(CC(C)C)=C3C(N)=O)S1)=O)CC2']\n"
     ]
    }
   ],
   "source": [
    "# Print the first 5 rows of the DataFrame  \n",
    "print(df.head())\n",
    "\n",
    "# Extract the 'SMILES' column and convert it to a list\n",
    "smiles_list = df['SMILES'].tolist()\n",
    "\n",
    "# Print the first 5 SMILES strings\n",
    "print(smiles_list[:5])\n",
    "\n"
   ]
  },
  {
   "cell_type": "code",
   "execution_count": 48,
   "id": "76d673b3",
   "metadata": {},
   "outputs": [],
   "source": [
    "# Structure of output YAML file\n",
    "\"\"\"\n",
    "version: 1  # Optional, defaults to 1\n",
    "sequences:\n",
    "  - protein:\n",
    "      id: [A]\n",
    "      sequence: MVTPEGNVSLVDESLLVGVTDEDRAVRSAHQFYERLIGLWAPAVMEAAHELGVFAALAEAPADSGELARRLDCDARAMRVLLDALYAYDVIDRIHDTNGFRYLLSAEARECLLPGTLFSLVGKFMHDINVAWPAWRNLAEVVRHGARDTSGAESPNGIAQEDYESLVGGINFWAPPIVTTLSRKLRASGRSGDATASVLDVGCGTGLYSQLLLREFPRWTATGLDVERIATLANAQALRLGVEERFATRAGDFWRGGWGTGYDLVLFANIFHLQTPASAVRLMRHAAACLAPDGLVAVVDQIVDADREPKTPQDRFALLFAASMTNTGGGDAYTFQEYEEWFTAAGLQRIETLDTPMHRILLARRATEPSAVPEGQASENLYFQ\n",
    "      msa: ./msa/CTR.a3m\n",
    "  - ligand:\n",
    "      id: [B]\n",
    "      smiles: 'N[C@@H](Cc1ccc(O)cc1)C(=O)O'\n",
    "\n",
    "\"\"\"\n",
    "import pandas as pd\n",
    "import yaml\n",
    "import re\n",
    "\n",
    "# Read a CSV file into a DataFrame  \n",
    "df = pd.read_csv('Series_10_SMILES.csv')\n",
    "\n",
    "\n",
    "protein_sequence = \"MVTPEGNVSLVDESLLVGVTDEDRAVRSAHQFYERLIGLWAPAVMEAAHELGVFAALAEAPADSGELARRLDCDARAMRVLLDALYAYDVIDRIHDTNGFRYLLSAEARECLLPGTLFSLVGKFMHDINVAWPAWRNLAEVVRHGARDTSGAESPNGIAQEDYESLVGGINFWAPPIVTTLSRKLRASGRSGDATASVLDVGCGTGLYSQLLLREFPRWTATGLDVERIATLANAQALRLGVEERFATRAGDFWRGGWGTGYDLVLFANIFHLQTPASAVRLMRHAAACLAPDGLVAVVDQIVDADREPKTPQDRFALLFAASMTNTGGGDAYTFQEYEEWFTAAGLQRIETLDTPMHRILLARRATEPSAVPEGQASENLYFQ\"\n",
    "chainA = \"[A]\"\n",
    "chainB = \"[B]\"\n",
    "\n",
    "\n",
    "# Need to loop through the pandas dataframe and populate the YAML file so that the 'smiles' field is populated and the output file is named from the 'Molecule Name' column.\n",
    "def create_yaml_entry(smiles):\n",
    "    return {\n",
    "        'protein': {\n",
    "            'id': chainA,\n",
    "            'sequence': protein_sequence,\n",
    "            'msa': './msa/CTR.a3m'\n",
    "        },\n",
    "        'ligand': {\n",
    "            'id': chainB,\n",
    "            'smiles': f\"{smiles}\"\n",
    "        }\n",
    "    }\n",
    "\n",
    "def generate_yaml_files(df):\n",
    "    for index, row in df.iterrows():\n",
    "        molecule_name = str(row['Molecule Name']).replace(\" \", \"_\")\n",
    "        smiles = row['SMILES']\n",
    "        entry = create_yaml_entry(smiles)\n",
    "        output_data = {\n",
    "            'version': 1,\n",
    "            'sequences': [entry]\n",
    "        }\n",
    "        filename = f\"{molecule_name}.yaml\"\n",
    "        with open(filename, 'w') as file:\n",
    "            yaml.dump(output_data, file, default_flow_style=False, sort_keys=False)\n",
    "        # Strip out the extra quotes from the YAML output\n",
    "        with open(filename, 'r') as file:\n",
    "            contents = file.read()\n",
    "        with open(filename, 'w') as file:\n",
    "            file.write(re.sub(r\"['\\\"]\", \"\", contents))\n",
    "\n",
    "\n",
    "# Use the function to generate all the YAML files from the dataframe\n",
    "generate_yaml_files(df)\n"
   ]
  }
 ],
 "metadata": {
  "kernelspec": {
   "display_name": "boltz-2-tools",
   "language": "python",
   "name": "python3"
  },
  "language_info": {
   "codemirror_mode": {
    "name": "ipython",
    "version": 3
   },
   "file_extension": ".py",
   "mimetype": "text/x-python",
   "name": "python",
   "nbconvert_exporter": "python",
   "pygments_lexer": "ipython3",
   "version": "3.10.18"
  }
 },
 "nbformat": 4,
 "nbformat_minor": 5
}
