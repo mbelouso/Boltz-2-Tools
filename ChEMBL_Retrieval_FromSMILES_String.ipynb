{
 "cells": [
  {
   "cell_type": "markdown",
   "id": "692d23b2",
   "metadata": {},
   "source": [
    "# ChEMBL data retreival using SMILES strings from a CSV file"
   ]
  },
  {
   "cell_type": "code",
   "execution_count": 6,
   "id": "ff5c1d84",
   "metadata": {},
   "outputs": [],
   "source": [
    "import pandas as pd\n",
    "from chembl_webresource_client.new_client import new_client\n",
    "from rdkit import Chem\n",
    "\n",
    "def annotate_with_chembl_ic50_and_targets(df, smiles_column=\"smiles\"):\n",
    "    \"\"\"Annotate DataFrame with IC50, main target info, and all known targets for each SMILES.\"\"\"\n",
    "    ic50_values = []\n",
    "    target_names = []\n",
    "    target_ids = []\n",
    "    all_targets = []\n",
    "\n",
    "    for smiles in df[smiles_column]:\n",
    "        mol = Chem.MolFromSmiles(smiles)\n",
    "        canonical_smiles = Chem.MolToSmiles(mol, canonical=True)\n",
    "        # Use canonical SMILES for querying\n",
    "\n",
    "        molecules = new_client.molecule.filter(molecule_structures__canonical_smiles=canonical_smiles)\n",
    "        if molecules:\n",
    "            chembl_id = molecules[0]['molecule_chembl_id']\n",
    "            activities = list(new_client.activity.filter(molecule_chembl_id=chembl_id)[:20])\n",
    "            found_ic50 = False\n",
    "            targets_set = set()\n",
    "            for activity in activities:\n",
    "                target_id = activity.get('target_chembl_id')\n",
    "                if target_id:\n",
    "                    target_info = new_client.target.filter(chembl_id=target_id)\n",
    "                    if target_info:\n",
    "                        targets_set.add(target_info[0].get('pref_name', ''))\n",
    "                if not found_ic50 and activity.get('standard_type') == 'IC50' and activity.get('standard_value'):\n",
    "                    ic50 = activity['standard_value']\n",
    "                    units = activity.get('standard_units', '')\n",
    "                    if target_id and target_info:\n",
    "                        target_name = target_info[0].get('pref_name', '')\n",
    "                    else:\n",
    "                        target_name = ''\n",
    "                    ic50_values.append(f\"{ic50} {units}\")\n",
    "                    target_names.append(target_name)\n",
    "                    target_ids.append(target_id)\n",
    "                    found_ic50 = True\n",
    "            if not found_ic50:\n",
    "                ic50_values.append(None)\n",
    "                target_names.append(None)\n",
    "                target_ids.append(None)\n",
    "            # Add all known targets as a semicolon-separated string\n",
    "            all_targets.append(\"; \".join(sorted(targets_set)) if targets_set else None)\n",
    "        else:\n",
    "            ic50_values.append(None)\n",
    "            target_names.append(None)\n",
    "            target_ids.append(None)\n",
    "            all_targets.append(None)\n",
    "\n",
    "    df['IC50'] = ic50_values\n",
    "    df['target_name'] = target_names\n",
    "    df['target_id'] = target_ids\n",
    "    df['all_known_targets'] = all_targets\n",
    "    return df\n",
    "\n",
    "df = pd.read_csv(\"Final_Filtered_models.csv\")\n",
    "df = annotate_with_chembl_ic50_and_targets(df, smiles_column=\"smiles\")\n",
    "df.to_csv(\"Final_Filtered_models_with_ChemBL.csv\", index=False)\n"
   ]
  },
  {
   "cell_type": "code",
   "execution_count": null,
   "id": "2fe1b1b5",
   "metadata": {},
   "outputs": [],
   "source": []
  }
 ],
 "metadata": {
  "kernelspec": {
   "display_name": "boltz2-tools",
   "language": "python",
   "name": "python3"
  },
  "language_info": {
   "codemirror_mode": {
    "name": "ipython",
    "version": 3
   },
   "file_extension": ".py",
   "mimetype": "text/x-python",
   "name": "python",
   "nbconvert_exporter": "python",
   "pygments_lexer": "ipython3",
   "version": "3.10.18"
  }
 },
 "nbformat": 4,
 "nbformat_minor": 5
}
