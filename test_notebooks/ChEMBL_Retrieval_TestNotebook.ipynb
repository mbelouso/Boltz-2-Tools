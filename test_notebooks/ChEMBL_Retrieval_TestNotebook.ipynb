{
 "cells": [
  {
   "cell_type": "code",
   "execution_count": null,
   "id": "345e16eb",
   "metadata": {},
   "outputs": [],
   "source": [
    "# Search ChEMBL database\n",
    "\n",
    "from chembl_webresource_client.new_client import new_client\n",
    "from pprint import pprint\n",
    "\n",
    "# Search for a compound\n",
    "molecule = new_client.molecule.filter(pref_name__iexact='aspirin')[0]\n",
    "#print(molecule)\n",
    "#pprint(molecule)\n",
    "\n",
    "# get the ChEMBL ID\n",
    "chembl_id = molecule['molecule_chembl_id']\n",
    "\n",
    "# Fetch activities related to the compound\n",
    "activities = new_client.activity.filter(molecule_chembl_id=chembl_id)\n",
    "activities = activities[:20]\n",
    "\n",
    "# Extract target info\n",
    "targets = set()\n",
    "for activity in activities:\n",
    "    target = activity.get('target_chembl_id')\n",
    "    if target:\n",
    "        targets.add(target)\n",
    "\n",
    "# Get target information\n",
    "for target_id in targets:\n",
    "    target_info = new_client.target.filter(chembl_id=target_id)\n",
    "    pprint(target_info[0])\n"
   ]
  },
  {
   "cell_type": "code",
   "execution_count": null,
   "id": "786da79e",
   "metadata": {},
   "outputs": [],
   "source": [
    "# Print out activity information\n",
    "\n",
    "for activity in activities:\n",
    "    if activity.get('standard_type') == 'IC50' and activity.get('standard_value'):\n",
    "        target_id = activity.get('target_chembl_id')\n",
    "        target_info = new_client.target.filter(chembl_id=target_id)[0]\n",
    "        pprint(f\"Activity: {activity['standard_value']} {activity['standard_units']} against target {target_info['pref_name']} ({target_id})\")"
   ]
  },
  {
   "cell_type": "code",
   "execution_count": null,
   "id": "f75cf20f",
   "metadata": {},
   "outputs": [
    {
     "name": "stdout",
     "output_type": "stream",
     "text": [
      "Canonical SMILES: CCCn1c(=O)c2c(nc(C(C3CC3)C3CC3)n2CC)n(CCC)c1=O\n",
      "CHEMBL102371\n"
     ]
    }
   ],
   "source": [
    "from chembl_webresource_client.new_client import new_client\n",
    "from pprint import pprint\n",
    "from rdkit import Chem\n",
    "\n",
    "smiles = \"CCCn1c2c(c(=O)n(c1=O)CCC)n(c(n2)C(C3CC3)C4CC4)CC\"\n",
    "mol = Chem.MolFromSmiles(smiles)\n",
    "canonical_smiles = Chem.MolToSmiles(mol, canonical=True)\n",
    "\n",
    "print(\"Canonical SMILES:\", canonical_smiles)\n",
    "\n",
    "molecule1 = new_client.molecule.filter(molecule_structures__canonical_smiles=canonical_smiles)\n",
    "\n",
    "\n",
    "chembl_id = molecule1[0]['molecule_chembl_id']\n",
    "\n",
    "\n",
    "# Fetch activities related to the compound\n",
    "activities = new_client.activity.filter(molecule_chembl_id=chembl_id)\n",
    "activities = activities[:20]\n",
    "\n",
    "# Extract target info\n",
    "targets = set()\n",
    "for activity in activities:\n",
    "    target = activity.get('target_chembl_id')\n",
    "    if target:\n",
    "        targets.add(target)\n",
    "\n",
    "# Get target information\n",
    "for target_id in targets:\n",
    "    target_info = new_client.target.filter(chembl_id=target_id)\n",
    "\n",
    "\n",
    "for activity in activities:\n",
    "    if activity.get('standard_type') == 'IC50' and activity.get('standard_value'):\n",
    "        target_id = activity.get('target_chembl_id')\n",
    "        target_info = new_client.target.filter(chembl_id=target_id)[0]\n",
    "        pprint(f\"Activity: {activity['standard_value']} {activity['standard_units']} against target {target_info['pref_name']} ({target_id})\")\n"
   ]
  }
 ],
 "metadata": {
  "kernelspec": {
   "display_name": "boltz2-tools",
   "language": "python",
   "name": "python3"
  },
  "language_info": {
   "codemirror_mode": {
    "name": "ipython",
    "version": 3
   },
   "file_extension": ".py",
   "mimetype": "text/x-python",
   "name": "python",
   "nbconvert_exporter": "python",
   "pygments_lexer": "ipython3",
   "version": "3.10.18"
  }
 },
 "nbformat": 4,
 "nbformat_minor": 5
}
